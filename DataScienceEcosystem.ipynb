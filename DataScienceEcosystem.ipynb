{
 "cells": [
  {
   "cell_type": "markdown",
   "id": "1227e462",
   "metadata": {},
   "source": [
    "## Data Science Tools and Ecosystem"
   ]
  },
  {
   "cell_type": "markdown",
   "id": "7a02feac",
   "metadata": {},
   "source": [
    "In this notebook, Data Science Tools and Ecosystem are summarized"
   ]
  },
  {
   "cell_type": "markdown",
   "id": "2b03122b",
   "metadata": {},
   "source": [
    "Some of the most popular languages for data science are:\n",
    "1)Python\n",
    "2)Rlanguage\n",
    "3)Java"
   ]
  },
  {
   "cell_type": "markdown",
   "id": "778c02a1",
   "metadata": {},
   "source": [
    "Some of the commonly used libraries used by Data Scientists include: \n",
    "1- Pandas, \n",
    "2- Numpy, \n",
    "3- matplotlib"
   ]
  },
  {
   "cell_type": "markdown",
   "id": "71818de1",
   "metadata": {},
   "source": [
    "#### Data Science Tools: \n",
    "1-Jypiter Notebook,\n",
    "2-Rstudio\n",
    "3-JypiterLab"
   ]
  },
  {
   "cell_type": "markdown",
   "id": "8fe8f486",
   "metadata": {},
   "source": [
    "### Below are a few examples of evaluating arithmetic expressions in Python"
   ]
  },
  {
   "cell_type": "code",
   "execution_count": 6,
   "id": "c7dd4344",
   "metadata": {},
   "outputs": [
    {
     "data": {
      "text/plain": [
       "17"
      ]
     },
     "execution_count": 6,
     "metadata": {},
     "output_type": "execute_result"
    }
   ],
   "source": [
    "#This a simple arithmetic expression to mutiply then add integers\n",
    "(3*4)+5"
   ]
  },
  {
   "cell_type": "code",
   "execution_count": 10,
   "id": "6a5545e1",
   "metadata": {},
   "outputs": [
    {
     "name": "stdout",
     "output_type": "stream",
     "text": [
      "3.3333333333333335\n"
     ]
    }
   ],
   "source": [
    "#This will convert 200 minutes to hours by diving by 60\n",
    "m = 200\n",
    "h = 60\n",
    "print((m/h))"
   ]
  },
  {
   "cell_type": "markdown",
   "id": "1726ae4c",
   "metadata": {},
   "source": [
    "## Author's name"
   ]
  },
  {
   "cell_type": "markdown",
   "id": "9fcfad06",
   "metadata": {},
   "source": [
    "Muhammad"
   ]
  },
  {
   "cell_type": "code",
   "execution_count": null,
   "id": "d2bc1b9b",
   "metadata": {},
   "outputs": [],
   "source": []
  }
 ],
 "metadata": {
  "kernelspec": {
   "display_name": "Python 3 (ipykernel)",
   "language": "python",
   "name": "python3"
  },
  "language_info": {
   "codemirror_mode": {
    "name": "ipython",
    "version": 3
   },
   "file_extension": ".py",
   "mimetype": "text/x-python",
   "name": "python",
   "nbconvert_exporter": "python",
   "pygments_lexer": "ipython3",
   "version": "3.9.12"
  }
 },
 "nbformat": 4,
 "nbformat_minor": 5
}
